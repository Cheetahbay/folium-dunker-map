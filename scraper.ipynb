{
 "cells": [
  {
   "cell_type": "code",
   "execution_count": 1,
   "metadata": {},
   "outputs": [],
   "source": [
    "import requests\n",
    "from bs4 import BeautifulSoup\n",
    "import pandas as pd\n",
    "import re\n",
    "from pygeocoder import Geocoder"
   ]
  },
  {
   "cell_type": "code",
   "execution_count": 2,
   "metadata": {},
   "outputs": [],
   "source": [
    "# I need the URL for several pages that that hold dunker's information\n",
    "prefix = \"https://wda.do/dunkers?kind=\"\n",
    "dunker_levels = [\"pro\", \"amateur\", \"nba\", \"nba_retired\", \"retired\"]\n",
    "urls_by_level = [f\"{prefix}{level}\" for level in dunker_levels]"
   ]
  },
  {
   "cell_type": "code",
   "execution_count": 3,
   "metadata": {},
   "outputs": [],
   "source": [
    "# Collects all the individual dunker profile links\n",
    "profile_prefix = \"https://wda.do\"\n",
    "dunker_links = []\n",
    "for url in urls_by_level:\n",
    "    response = requests.get(url).text\n",
    "    soup = BeautifulSoup(response, \"html.parser\")\n",
    "    a_tags = soup.find_all(\"a\", class_=\"card p-3 dss-block\")\n",
    "    for link in a_tags:\n",
    "        dunker_links.append(f\"{profile_prefix}{link['href']}\")  "
   ]
  },
  {
   "cell_type": "code",
   "execution_count": 4,
   "metadata": {},
   "outputs": [],
   "source": [
    "# First lets create a list of dunker names\n",
    "names = []\n",
    "imgs = []\n",
    "locations = []\n",
    "leagues = []\n",
    "dunker_socials = []\n",
    "for url in urls_by_level:\n",
    "    response = requests.get(url).text\n",
    "    soup = BeautifulSoup(response, \"html.parser\")\n",
    "    # Get list of names\n",
    "    for name in soup.findAll(\"h1\", {\"class\":\"h1\"}):\n",
    "        names.append(name.text)\n",
    "    # Get list of profile imgages\n",
    "    for img in soup.findAll(\"img\", {\"alt\":\"Avatar\"}):\n",
    "        imgs.append(img[\"src\"])\n",
    "    # Get list of locations\n",
    "    for location in soup.findAll(class_= \"country-block\"):\n",
    "        locations.append(location.text.strip())\n",
    "    # Get list of leagues\n",
    "    for league in soup.findAll(class_=\"dunker-kind\"):\n",
    "        leagues.append(league.text.strip())"
   ]
  },
  {
   "cell_type": "code",
   "execution_count": 11,
   "metadata": {},
   "outputs": [
    {
     "data": {
      "text/plain": [
       "247"
      ]
     },
     "execution_count": 11,
     "metadata": {},
     "output_type": "execute_result"
    }
   ],
   "source": [
    "# Get list of tuples of dunker socials\n",
    "for individual_link in dunker_links:\n",
    "    r = requests.get(individual_link).text\n",
    "    soup = BeautifulSoup(r, \"html.parser\")\n",
    "    insta_link = soup.find(\"a\", {\"target\": \"_blank\", \"href\":re.compile(\"instagram\"), \"class\":False})\n",
    "    yt_link = soup.find(\"a\", {\"target\":\"_blank\", \"href\":re.compile(\"youtube\"), \"class\":False})\n",
    "    dunker_socials.append((insta_link[\"href\"] if insta_link is not None else \"N/A\", yt_link[\"href\"] if yt_link is not None else \"N/A\"))"
   ]
  },
  {
   "cell_type": "code",
   "execution_count": null,
   "metadata": {},
   "outputs": [],
   "source": [
    "dunkerdf = pd.DataFrame()\n",
    "dunkerdf[\"Name\"] = names\n",
    "dunkerdf[\"Avatar\"] = imgs\n",
    "dunkerdf[\"Location\"] = locations\n",
    "dunkerdf[\"League\"] = leagues\n",
    "dunkerdf.replace(\"\", \"AMATEUR\", inplace=True)\n",
    "dunkerdf[\"Instagram\"] = [insta for insta, yt in dunker_socials]\n",
    "dunkerdf[\"Youtube\"] = [yt for insta, yt in dunker_socials]"
   ]
  },
  {
   "cell_type": "markdown",
   "metadata": {},
   "source": [
    "# To add coordinates to dunker object, location must be converted using a geocoder API. \n",
    "# Calls might be expensive. To save resources, lets create a dictionary for locations where the coordinates have already been found.\n"
   ]
  },
  {
   "cell_type": "code",
   "execution_count": null,
   "metadata": {},
   "outputs": [],
   "source": [
    "dunkerdf.to_csv(\"dunker_data.csv\")"
   ]
  }
 ],
 "metadata": {
  "interpreter": {
   "hash": "63fd5069d213b44bf678585dea6b12cceca9941eaf7f819626cde1f2670de90d"
  },
  "kernelspec": {
   "display_name": "Python 3.9.6 64-bit",
   "language": "python",
   "name": "python3"
  },
  "language_info": {
   "codemirror_mode": {
    "name": "ipython",
    "version": 3
   },
   "file_extension": ".py",
   "mimetype": "text/x-python",
   "name": "python",
   "nbconvert_exporter": "python",
   "pygments_lexer": "ipython3",
   "version": "3.9.6"
  },
  "orig_nbformat": 4
 },
 "nbformat": 4,
 "nbformat_minor": 2
}
