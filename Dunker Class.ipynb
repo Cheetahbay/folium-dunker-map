{
 "cells": [
  {
   "cell_type": "code",
   "execution_count": 41,
   "id": "monetary-intent",
   "metadata": {},
   "outputs": [
    {
     "name": "stdout",
     "output_type": "stream",
     "text": [
      "finished imports\n"
     ]
    }
   ],
   "source": [
    "# Imports\n",
    "import pandas as pd\n",
    "import folium\n",
    "import folium.plugins as plugins\n",
    "import ast\n",
    "print(\"finished imports\")"
   ]
  },
  {
   "cell_type": "markdown",
   "id": "scenic-causing",
   "metadata": {},
   "source": [
    "# Dunker Class"
   ]
  },
  {
   "cell_type": "code",
   "execution_count": 42,
   "id": "absent-operations",
   "metadata": {},
   "outputs": [],
   "source": [
    "class Dunker:\n",
    "    def __init__(self, name, location, coord, league, link, avatar=\"default_avi.jpeg\"):\n",
    "        self.name = name\n",
    "        self.location = location\n",
    "        self.coordinates = ast.literal_eval(coord)\n",
    "        self.league = league\n",
    "        self.link = link\n",
    "        self.avatar = avatar\n",
    "    def getCoordinates(self):\n",
    "        return self.coordinates\n",
    "#     def __str__(self):\n",
    "#         return f\"Name: {self.name},\\nLocation: {self.location}\\nLeague: {self.league}\"\n",
    "    def get_link(self):\n",
    "        return self.link\n",
    "    def __repr__(self):\n",
    "        # This is how I want dunker info to be displayed to the end user.\n",
    "        return f\"<img src={self.avatar} alt='avatar' height='50px' width='50px'></img>{self.name}\\nLocation: {self.location}\\n <a href={self.link} target=_blank>Insta</a>\" \n",
    "    def __eq__(self, other):\n",
    "        return self.coordinates == other.coordinates"
   ]
  },
  {
   "cell_type": "code",
   "execution_count": 43,
   "id": "refined-hungarian",
   "metadata": {},
   "outputs": [
    {
     "name": "stdout",
     "output_type": "stream",
     "text": [
      "181\n"
     ]
    }
   ],
   "source": [
    "dunkerdf = pd.read_csv(\"dunker_data.csv\")\n",
    "dunkerdf.loc[dunkerdf.League==\"PRO\"]\n",
    "print(len(dunkerdf))"
   ]
  },
  {
   "cell_type": "code",
   "execution_count": 44,
   "id": "casual-spyware",
   "metadata": {},
   "outputs": [],
   "source": [
    "# Create list of Dunker objects by looping through dunkerdf\n",
    "\n",
    "dunker_list = []\n",
    "for dunker in dunkerdf.itertuples():\n",
    "    name, loc, coord, league, link = dunker[1::]\n",
    "    dunker_list.append(Dunker(name, loc, coord, league, link))"
   ]
  },
  {
   "cell_type": "code",
   "execution_count": 45,
   "id": "adopted-attack",
   "metadata": {},
   "outputs": [
    {
     "name": "stdout",
     "output_type": "stream",
     "text": [
      "https://instagram.com/demar_derozan\n",
      "https://instagram.com/javalemcgee\n",
      "https://instagram.com/barryathree\n",
      "https://instagram.com/steve_franchise3\n",
      "https://instagram.com/therobertpackorganization\n",
      "nan\n",
      "https://instagram.com/jclarkthejumper\n",
      "https://instagram.com/remcofrankin\n",
      "https://instagram.com/jordankilganon\n",
      "https://instagram.com/miller_dunks\n",
      "https://instagram.com/brodiestephens_\n",
      "https://instagram.com/monikbarsuk\n",
      "https://instagram.com/Ez_dondon7\n",
      "https://instagram.com/jumpmau\n",
      "https://instagram.com/Mikhrabczuk\n",
      "https://instagram.com/flysteezo\n",
      "https://instagram.com/Trax_basket\n",
      "https://instagram.com/twist_dunks\n",
      "https://instagram.com/kadour_ziani_official\n"
     ]
    }
   ],
   "source": [
    "for d in dunker_list[::10]:\n",
    "    print(d.get_link())"
   ]
  },
  {
   "cell_type": "markdown",
   "id": "renewable-allah",
   "metadata": {},
   "source": [
    "### Many of these Dunkers have identical coordinates. They require ClusterMarkers as opposed to Clusters. From dunkerdf, I can grab each coordinate's number of occurences"
   ]
  },
  {
   "cell_type": "code",
   "execution_count": 46,
   "id": "dimensional-scholarship",
   "metadata": {},
   "outputs": [
    {
     "data": {
      "text/plain": [
       "(37.0902, -95.7129)                 72\n",
       "(48.856614, 2.3522219)               6\n",
       "(34.0522342, -118.2436849)           4\n",
       "(47.8388, 35.139567)                 3\n",
       "(45.4041718, -71.8929107)            3\n",
       "                                    ..\n",
       "(35.0059914, -77.2210654)            1\n",
       "(32.8323225, -79.82842579999999)     1\n",
       "(49.321374, 6.118281899999999)       1\n",
       "(42.3149367, -83.03636329999999)     1\n",
       "(48.637692, 4.947418)                1\n",
       "Name: Coordinates, Length: 86, dtype: int64"
      ]
     },
     "execution_count": 46,
     "metadata": {},
     "output_type": "execute_result"
    }
   ],
   "source": [
    "coord_counts = dunkerdf[\"Coordinates\"].value_counts()\n",
    "coord_counts"
   ]
  },
  {
   "cell_type": "markdown",
   "id": "useful-baghdad",
   "metadata": {},
   "source": [
    "### I want a list of just coordinates that appear more than once."
   ]
  },
  {
   "cell_type": "code",
   "execution_count": 47,
   "id": "brilliant-luther",
   "metadata": {},
   "outputs": [
    {
     "data": {
      "text/plain": [
       "(37.0902, -95.7129)                 72.0\n",
       "(48.856614, 2.3522219)               6.0\n",
       "(34.0522342, -118.2436849)           4.0\n",
       "(47.8388, 35.139567)                 3.0\n",
       "(45.4041718, -71.8929107)            3.0\n",
       "                                    ... \n",
       "(35.0059914, -77.2210654)            NaN\n",
       "(32.8323225, -79.82842579999999)     NaN\n",
       "(49.321374, 6.118281899999999)       NaN\n",
       "(42.3149367, -83.03636329999999)     NaN\n",
       "(48.637692, 4.947418)                NaN\n",
       "Name: Coordinates, Length: 86, dtype: float64"
      ]
     },
     "execution_count": 47,
     "metadata": {},
     "output_type": "execute_result"
    }
   ],
   "source": [
    "# I can use the where() method to change the series to meet a certain condition (value > 1)\n",
    "coord_counts = coord_counts.where(coord_counts > 1)\n",
    "coord_counts"
   ]
  },
  {
   "cell_type": "markdown",
   "id": "recovered-jefferson",
   "metadata": {},
   "source": [
    "### Great. But now there's a bunch of N/A values and the list is still too long."
   ]
  },
  {
   "cell_type": "code",
   "execution_count": 48,
   "id": "brazilian-saint",
   "metadata": {},
   "outputs": [
    {
     "data": {
      "text/plain": [
       "(37.0902, -95.7129)           72\n",
       "(48.856614, 2.3522219)         6\n",
       "(34.0522342, -118.2436849)     4\n",
       "(47.8388, 35.139567)           3\n",
       "(45.4041718, -71.8929107)      3\n",
       "(51.919438, 19.145136)         3\n",
       "(48.379433, 31.1655799)        2\n",
       "(38.7374943, -104.7888615)     2\n",
       "(35.86166, 104.195397)         2\n",
       "(55.169438, 23.881275)         2\n",
       "(45.4642035, 9.189982)         2\n",
       "(-31.9523123, 115.861309)      2\n",
       "(40.6781784, -73.9441579)      2\n",
       "(51.5073509, -0.1277583)       2\n",
       "(-37.8136276, 144.9630576)     2\n",
       "(46.227638, 2.213749)          2\n",
       "Name: Coordinates, dtype: int32"
      ]
     },
     "execution_count": 48,
     "metadata": {},
     "output_type": "execute_result"
    }
   ],
   "source": [
    "# Drop N/A values and convert pd.Series to a list\n",
    "coord_list = coord_counts.dropna()\n",
    "coord_list = coord_list.astype(int)\n",
    "coord_list"
   ]
  },
  {
   "cell_type": "markdown",
   "id": "instant-warning",
   "metadata": {},
   "source": [
    "### Awesome! Let's design a funtion that takes two parameters (list of coords and list of dunker objects) and places markers on the map"
   ]
  },
  {
   "cell_type": "code",
   "execution_count": 49,
   "id": "subjective-ancient",
   "metadata": {},
   "outputs": [],
   "source": [
    "def to_map(dlist, clist):\n",
    "    # dlist: List of dunker objects \n",
    "    # clist: list of coordinates that appear more than once in dunkerdf\n",
    "    newclist = clist.astype(int)\n",
    "    for c in newclist.index:\n",
    "        # for every coordinate in clist, make a MarkerCluster. The locations are a list of current coordinate * number of occurences)\n",
    "        locations = [ast.literal_eval(c) for _ in range(newclist[c])]\n",
    "        names = list(filter(lambda d: d.coordinates == ast.literal_eval(c), dlist))\n",
    "        plugins.MarkerCluster(locations=locations, popups=names, icon=folium.Icon(color=[\"red\" for _ in range(newclist[c])])).add_to(m)\n",
    "    for d in dlist:\n",
    "        if str(d.coordinates) not in newclist.index:\n",
    "            folium.Marker(location=d.coordinates, popup=d.__str__(), icon=color_by_league(d)).add_to(m)"
   ]
  },
  {
   "cell_type": "code",
   "execution_count": 50,
   "id": "removable-reduction",
   "metadata": {},
   "outputs": [],
   "source": [
    "map1 = folium.Map(zoom_start=50, control_scale=True)"
   ]
  },
  {
   "cell_type": "code",
   "execution_count": 51,
   "id": "accredited-hartford",
   "metadata": {},
   "outputs": [],
   "source": [
    "def same_coord(d: Dunker, cl: list):\n",
    "    #dl: dunker\n",
    "    #cl: coordinate_list\n",
    "    for i, c in enumerate(cl):\n",
    "        if str(d.coordinates) == c:\n",
    "            # Returns index of coordinate list with coordinates that match the dunkers\n",
    "            return i"
   ]
  },
  {
   "cell_type": "code",
   "execution_count": 52,
   "id": "under-reservation",
   "metadata": {},
   "outputs": [],
   "source": [
    "def icon_by_league(d: Dunker):\n",
    "    if d.league == \"PRO\":\n",
    "        return folium.Icon(color=\"red\", icon=\"male\", prefix=\"fa\")\n",
    "    if d.league == \"AMATEUR\":\n",
    "        return folium.Icon(color=\"green\", icon=\"male\", prefix=\"fa\")\n",
    "    if d.league == \"NBA\":\n",
    "        return folium.Icon(color=\"black\", icon=\"male\", prefix=\"fa\")\n",
    "    if d.league == \"FORMER NBA\":\n",
    "        return folium.Icon(color=\"darkpurple\", icon=\"male\", prefix=\"fa\")\n",
    "    if d.league == \"FORMER\":\n",
    "        return folium.Icon(color=\"cadetblue\", icon=\"male\", prefix=\"fa\")"
   ]
  },
  {
   "cell_type": "code",
   "execution_count": 53,
   "id": "discrete-technology",
   "metadata": {},
   "outputs": [
    {
     "name": "stdout",
     "output_type": "stream",
     "text": [
      "cluster dunkers: 111, reg dunkers: 70\n"
     ]
    }
   ],
   "source": [
    "# Let's create a Marker Cluster for every coordinate that needs one\n",
    "cluster_list = []\n",
    "cint = coord_list.index\n",
    "for coordinate in cint:\n",
    "    cluster_list.append(plugins.MarkerCluster())\n",
    "cluster_list\n",
    "i=0\n",
    "a=0\n",
    "for d in dunker_list:\n",
    "    \n",
    "    if str(d.coordinates) in cint:\n",
    "        i+=1\n",
    "        # add to cluster with those coordinates\n",
    "        folium.Marker(location=d.coordinates, \n",
    "                      popup=d,\n",
    "                      icon=icon_by_league(d)\n",
    "                     ).add_to(cluster_list[same_coord(d, cint)])\n",
    "    else:\n",
    "        a+=1\n",
    "        # add regular marker to the map\n",
    "        folium.Marker(location=d.coordinates,\n",
    "                      popup=d, icon=icon_by_league(d)\n",
    "                     ).add_to(map1)\n",
    "# Now let's loop through dunkers and if their coordinates match markerCluster coordinates, add to marker cluster\n",
    "# add regular marker to the map\n",
    "print(f\"cluster dunkers: {i}, reg dunkers: {a}\")\n",
    "\n",
    "# Loop over list of MarkerClusters and add them to the folium map\n",
    "for mc in cluster_list:\n",
    "    mc.add_to(map1)\n"
   ]
  },
  {
   "cell_type": "code",
   "execution_count": 54,
   "id": "cleared-cyprus",
   "metadata": {},
   "outputs": [],
   "source": [
    "map1._repr_html_()\n",
    "map1.save(\"thismap.html\")\n"
   ]
  },
  {
   "cell_type": "code",
   "execution_count": null,
   "id": "sized-warrant",
   "metadata": {},
   "outputs": [],
   "source": []
  }
 ],
 "metadata": {
  "kernelspec": {
   "display_name": "Python 3 (ipykernel)",
   "language": "python",
   "name": "python3"
  },
  "language_info": {
   "codemirror_mode": {
    "name": "ipython",
    "version": 3
   },
   "file_extension": ".py",
   "mimetype": "text/x-python",
   "name": "python",
   "nbconvert_exporter": "python",
   "pygments_lexer": "ipython3",
   "version": "3.9.6"
  }
 },
 "nbformat": 4,
 "nbformat_minor": 5
}
